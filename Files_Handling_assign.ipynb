{
  "nbformat": 4,
  "nbformat_minor": 0,
  "metadata": {
    "colab": {
      "provenance": []
    },
    "kernelspec": {
      "name": "python3",
      "display_name": "Python 3"
    },
    "language_info": {
      "name": "python"
    }
  },
  "cells": [
    {
      "cell_type": "markdown",
      "source": [
        "#**Files Handling Assignment**\n",
        "\n"
      ],
      "metadata": {
        "id": "ZCqVYTgFt8ev"
      }
    },
    {
      "cell_type": "markdown",
      "source": [
        "Q1. What is the difference between interpreted and compiled languages?\n",
        "\n",
        "Ans 1. **Compiled languages**\n",
        "\n",
        "Your entire source code is translated ahead of time into native machine code (binary) by a compiler—a standalone tool .\n",
        "You get an executable that runs directly on hardware, without needing the compiler at runtime .\n",
        "Examples include C, C++, Rust, Go .\n",
        "\n",
        "Pros:\n",
        "\n",
        "Fast performance thanks to direct execution.\n",
        "\n",
        "Compiler optimizations enhance speed and resource use.\n",
        "\n",
        "Cons:\n",
        "\n",
        "Need to recompile after changes.\n",
        "\n",
        "Binaries are platform-specific, requiring rebuilds for other OS/architectures .\n",
        "\n",
        "**Interpreted languages**\n",
        "\n",
        "Code is executed line-by-line (or chunk-by-chunk) by an interpreter at runtime .\n",
        "There's no separate build phase; the interpreter parses and runs your code immediately .\n",
        "Widely used examples: Python, JavaScript, Ruby, PHP.\n",
        "\n",
        "Pros:\n",
        "\n",
        "Super fast development cycle—write, run, debug instantly.\n",
        "\n",
        "Code is portable (works on any system with the interpreter) .\n",
        "\n",
        "Cons:\n",
        "\n",
        "Slower execution due to runtime translation overhead .\n",
        "\n",
        "You need the interpreter installed on any machine where you want to run your code.\n",
        "\n",
        "Q2. What is exception handling in python?\n",
        "\n",
        "Ans 2. Exception handling in Python is a powerful mechanism that lets you manage errors gracefully, maintain control flow, and ensure clean-up actions even when things go wrong.\n",
        "\n",
        "Q3. What is the purpose of finally block in exception handling?\n",
        "\n",
        "Ans 3.  In Python, the finally block in exception handling exists to ensure that specific code always runs, regardless of whether an exception was raised or not—making it essential for reliable cleanup and resource management.\n",
        "\n",
        "Q4. What is logging in python ?\n",
        "\n",
        "Ans 4.   Python’s logging is a built-in module designed to record important runtime information—like events, errors, warnings, and debug messages—so developers can better monitor, debug, and analyze their applications. Unlike simple print() statements, logging offers structured output, adjustable verbosity, and multiple output destinations.\n",
        "\n",
        "Q5.  What is the significance of the _del_ method in python?                                             \n",
        "Ans5.  The _del_ method in Python is known as a destructor method. It is called automatically when an object is about to be destroyed (i.e., when there are no more references to the object and it's ready for garbage collection).\n",
        "\n",
        "Q6.  What is the difference import and from ...import in python ?                                  \n",
        "Ans 6.  import brings in the whole module; you access contents with module.name.\n",
        "\n",
        "from ... import ... brings in specific parts directly; you access them by name only.\n",
        "\n",
        "Use import module when you need many things from the module or want clarity.\n",
        "Use from ... import ... when you need only one or two specific things and want shorter code.\n",
        "\n",
        "Q7. How can you handle multiple exceptions in pythons?                                                       \n",
        "Ans7.  Use multiple except blocks for clarity.\n",
        "\n",
        "Use a tuple of exceptions for similar handling.\n",
        "\n",
        "Use Exception to catch all errors (only when necessary).\n",
        "\n",
        "Q8.  What is the purpose of the with statement when handling files in python?                    \n",
        " Ans8.  The with statement in Python is used to simplify file handling by automatically managing resources like file objects. It ensures that the file is properly closed after its block of code is executed — even if an exception occurs.\n",
        "\n",
        " Q9.  What is the difference between multithreading and multiprocessing?                       \n",
        " Ans9.  Multithreading = Multiple threads, shared memory, better for I/O-bound.\n",
        "\n",
        "Multiprocessing = Multiple processes, separate memory, better for CPU-bound.\n",
        "\n",
        "Q10.  What are the advantages of using logging in a program?                                                    \n",
        " Ans10.    Logging makes a program more maintainable, debuggable, professional, and production-ready.\n",
        "\n",
        " Q11. What is memory management in Python?                                                                           \n",
        " Ans11. Memory management in Python refers to the process by which Python allocates, uses, and releases memory during the execution of a program.\n",
        "\n",
        " Q12. What are the basic steps involved in exception handling in Python?\n",
        "\n",
        "Ans12. Exception handling in Python is done using try, except, else, and finally blocks.\n",
        "\n",
        "Q13. Why is memory management important in Python?\n",
        "\n",
        "Ans13. Memory management in Python is essential for writing reliable, efficient, and scalable programs. It helps avoid memory leaks, optimizes performance, and ensures that applications use resources wisely.\n",
        "\n",
        "Q14. What is the role of try and except in exception handling?\n",
        "\n",
        "Ans14. try: Protects risky code.\n",
        "\n",
        "except: Catches and handles specific errors to prevent program crashes.\n",
        "\n",
        "Q15. How does Python's garbage collection system work?\n",
        "\n",
        "Ans15. Python’s garbage collection (GC) system is responsible for automatically managing memory. It identifies and removes objects from memory that are no longer in use so the memory can be reused efficiently.\n",
        "\n",
        "Q16. What is the purpose of the else block in exception handling?\n",
        "\n",
        "Ans16. The else block in exception handling is used to define code that should run only if no exception occurs in the try block.\n",
        "\n",
        "Q17. What are the common logging levels in Python?\n",
        "\n",
        "Ans17. Python’s logging module provides different logging levels to categorize the severity or importance of messages. These levels help developers filter and manage logs effectively.\n",
        "\n",
        "Q18. What is the difference between os.fork() and multiprocessing in Python?\n",
        "\n",
        "Ans18. os.fork() = You handle everything manually.\n",
        "\n",
        "multiprocessing = Python helps you manage processes easily and safely.\n",
        "\n",
        "Q19. What is the importance of closing a file in Python?\n",
        "\n",
        "Ans19. Closing a file ensures data safety, frees resources, prevents errors, and keeps your code clean and reliable.\n",
        "\n",
        "Q20. What is the difference between file.read() and file.readline() in Python?\n",
        "\n",
        "Ans20. file.read()\n",
        "\n",
        "Reads the entire file content at once.\n",
        "\n",
        "Returns the content as one single string.\n",
        "\n",
        "Suitable for small files.\n",
        "\n",
        "Can take an optional argument to read a specific number of characters.\n",
        "\n",
        "Not memory-efficient for very large files.\n",
        "\n",
        "file.readline()\n",
        "\n",
        "Reads the file one line at a time.\n",
        "\n",
        "Returns each line as a string, including the \\n newline character.\n",
        "\n",
        "Suitable for large files where reading line-by-line is needed.\n",
        "\n",
        "Can be used repeatedly to read the next line on each call.\n",
        "\n",
        "Memory-efficient as it reads only one line at a time.\n",
        "\n",
        "Q21. What is the logging module in Python used for?\n",
        "\n",
        "Ans21. The logging module in Python is used to record messages about a program’s execution. These messages can help track the flow of the program, debug issues, and monitor performance.\n",
        "\n",
        "Q22. What is the os module in Python used for in file handling?\n",
        "\n",
        "Ans22. The os module in Python provides functions to interact with the operating system, especially for working with files and directories.\n",
        "\n",
        "Q23. What are the challenges associated with memory management in Python?\n",
        "\n",
        "Ans23. While Python simplifies memory management through reference counting and garbage collection, challenges like circular references, memory fragmentation, and leaks from lingering references can still occur and require careful coding practices.\n",
        "\n",
        "Q24. How do you raise an exception manually in Python?\n",
        "\n",
        "Ans24. In Python, you can manually raise an exception using the raise keyword.\n",
        "\n",
        "Q25. Why is it important to use multithreading in certain applications?\n",
        "\n",
        "Ans25. Multithreading is important in specific types of applications because it allows a program to perform multiple tasks concurrently within the same process.\n",
        "\n"
      ],
      "metadata": {
        "id": "RcjzIv-hvNkf"
      }
    },
    {
      "cell_type": "code",
      "source": [
        "# Question-1 How can you open a file for writing in Python and write a string to it?\n",
        "f=open(\"example.txt1\",\"w\")\n",
        "f.write(\"Hello World!\")\n",
        "f.close()"
      ],
      "metadata": {
        "id": "MUprlxLuy76q"
      },
      "execution_count": 1,
      "outputs": []
    },
    {
      "cell_type": "code",
      "source": [
        "# QUESTION-2 Write a Python program to read the contents of a file and print each line?\n",
        "f=open(\"example.txt1\",\"r\")\n",
        "print (f.readline())\n",
        "f.close()\n"
      ],
      "metadata": {
        "colab": {
          "base_uri": "https://localhost:8080/"
        },
        "id": "yw1J2hmBzfdX",
        "outputId": "0d3f9f7a-5c70-4163-b40e-0c415601e229"
      },
      "execution_count": 2,
      "outputs": [
        {
          "output_type": "stream",
          "name": "stdout",
          "text": [
            "Hello World!\n"
          ]
        }
      ]
    },
    {
      "cell_type": "code",
      "source": [
        "# QUESTION-3 How would you handle a case where the file doesn't exist while trying to open it for reading?\n",
        "try:\n",
        "  f=open(\"log.txt\",\"r\")\n",
        "except FileNotFoundError as e:\n",
        "  print(\"file not found\",e)"
      ],
      "metadata": {
        "colab": {
          "base_uri": "https://localhost:8080/"
        },
        "id": "t14rUBxyzfar",
        "outputId": "ae58e8b5-e12f-4d65-aedf-c7ccf90df50f"
      },
      "execution_count": 3,
      "outputs": [
        {
          "output_type": "stream",
          "name": "stdout",
          "text": [
            "file not found [Errno 2] No such file or directory: 'log.txt'\n"
          ]
        }
      ]
    },
    {
      "cell_type": "code",
      "source": [
        "# QUESTION-4 Write a Python script that reads from one file and writes its content to another file?\n",
        "\n",
        "source_file=\"source.txt\"\n",
        "destination_file=\"destination.txt\"\n",
        "try:\n",
        "  with open(\"source_file\",\"r\") as f:\n",
        "    line=f.readline()\n",
        "    with open(\"destination_file\",\"w\") as f1:\n",
        "      f1.write(line)\n",
        "      print(f\"content copied from {source_file} to {destination_file} sucessfully\")\n",
        "except FileNotFoundError as e:\n",
        "  print(f\"the file {source_file} was not found\")\n",
        "except Exception as e:\n",
        "  print(f\"an error occured: {e}\")"
      ],
      "metadata": {
        "colab": {
          "base_uri": "https://localhost:8080/"
        },
        "id": "e7BsylkYzfYi",
        "outputId": "39c26c5a-c503-461d-901f-66e113d137ea"
      },
      "execution_count": 6,
      "outputs": [
        {
          "output_type": "stream",
          "name": "stdout",
          "text": [
            "the file source.txt was not found\n"
          ]
        }
      ]
    },
    {
      "cell_type": "code",
      "source": [
        "# QUESTION-5 How would you catch and handle division by zero error in Python?\n",
        "try:\n",
        "  10/0\n",
        "except ZeroDivisionError as e:\n",
        "  print(\"the divison is not possible due to error\",e)"
      ],
      "metadata": {
        "colab": {
          "base_uri": "https://localhost:8080/"
        },
        "id": "24gHB5kzzfTb",
        "outputId": "a0830e81-b7e4-4a63-e993-2413c779475b"
      },
      "execution_count": 7,
      "outputs": [
        {
          "output_type": "stream",
          "name": "stdout",
          "text": [
            "the divison is not possible due to error division by zero\n"
          ]
        }
      ]
    },
    {
      "cell_type": "code",
      "source": [
        "# QUESTION-6 Write a Python program that logs an error message to a log file when a division by zero exception occurs?\n",
        "import logging\n",
        "logging.basicConfig(filename=\"program1.log\",level=logging.ERROR)\n",
        "try:\n",
        "  10/0\n",
        "except ZeroDivisionError as e:\n",
        "  logging.error(f\"division not possible due to error {e}\")"
      ],
      "metadata": {
        "colab": {
          "base_uri": "https://localhost:8080/"
        },
        "id": "OCO5C57JzfRz",
        "outputId": "cf18913a-7577-4568-f97d-3743dd2c119a"
      },
      "execution_count": 8,
      "outputs": [
        {
          "output_type": "stream",
          "name": "stderr",
          "text": [
            "ERROR:root:division not possible due to error division by zero\n"
          ]
        }
      ]
    },
    {
      "cell_type": "code",
      "source": [
        "# QUESTION-7 How do you log information at different levels (INFO, ERROR, WARNING) in Python using the logging module?\n",
        "import logging\n",
        "\n",
        "\n",
        "logging.basicConfig(level=logging.DEBUG, format='%(levelname)s: %(message)s')\n",
        "\n",
        "\n",
        "logging.info(\"This is an info message.\")\n",
        "logging.warning(\"This is a warning message.\")\n",
        "logging.error(\"This is an error message.\")\n"
      ],
      "metadata": {
        "colab": {
          "base_uri": "https://localhost:8080/"
        },
        "id": "LcjwKnodzfO0",
        "outputId": "3b289bdb-b5ed-42a1-ef1a-400534739435"
      },
      "execution_count": 9,
      "outputs": [
        {
          "output_type": "stream",
          "name": "stderr",
          "text": [
            "WARNING:root:This is a warning message.\n",
            "ERROR:root:This is an error message.\n"
          ]
        }
      ]
    },
    {
      "cell_type": "code",
      "source": [
        "# QUESTION-8  Write a program to handle a file opening error using exception handling?\n",
        "try:\n",
        "  f=open(\"test.txt\",\"r\")\n",
        "except FileNotFoundError as e:\n",
        "  print(\"file not created\",e)\n",
        "except Exception as e:\n",
        "  print(\"file is not opened due to\",e)"
      ],
      "metadata": {
        "id": "Oa2CFhMgzfMY"
      },
      "execution_count": 15,
      "outputs": []
    },
    {
      "cell_type": "code",
      "source": [
        "# QUESTION-9  How can you read a file line by line and store its content in a list in Python?\n",
        "f=open(\"test.txt\",\"w\")\n",
        "f.write(\"first line /n\")\n",
        "f.write(\"second line /n\")\n",
        "f.write(\"third line /n\")\n",
        "f.close()\n",
        "f=open(\"test.txt\",\"r\")\n",
        "print(f.readlines())\n",
        "f.close()"
      ],
      "metadata": {
        "colab": {
          "base_uri": "https://localhost:8080/"
        },
        "id": "J-db6SlTzfJ_",
        "outputId": "9c505c6b-251d-4f60-a985-49843b3ef158"
      },
      "execution_count": 10,
      "outputs": [
        {
          "output_type": "stream",
          "name": "stdout",
          "text": [
            "['first line /nsecond line /nthird line /n']\n"
          ]
        }
      ]
    },
    {
      "cell_type": "code",
      "source": [
        "# QUESTION-10  How can you append data to an existing file in Python?\n",
        "f=open(\"test.txt\",\"a\")\n",
        "f.write(\"fourth line /n\")\n",
        "f.close()\n",
        "f=open(\"test.txt\",\"r\")\n",
        "print(f.readlines())\n",
        "f.close()"
      ],
      "metadata": {
        "colab": {
          "base_uri": "https://localhost:8080/"
        },
        "id": "lh13UhnGzfGl",
        "outputId": "c829ec2d-0cd1-49af-d978-3a56762de038"
      },
      "execution_count": 12,
      "outputs": [
        {
          "output_type": "stream",
          "name": "stdout",
          "text": [
            "['first line /nsecond line /nthird line /nfourth line /n']\n"
          ]
        }
      ]
    },
    {
      "cell_type": "code",
      "source": [
        "# QUESTION-11  Write a Python program that uses a try-except block to handle an error when attempting to access a dictionary key that doesn't existF\n",
        "try:\n",
        "  d={\"name\":\"Dwiti\",\"class\":\"ds\"}\n",
        "  d[\"age\"]\n",
        "except KeyError as e:\n",
        "  print(\"the key is not present\",e)"
      ],
      "metadata": {
        "colab": {
          "base_uri": "https://localhost:8080/"
        },
        "id": "i65zvi8O1fKR",
        "outputId": "e40d5b22-5784-4eae-a3c9-b9bf5992a0f1"
      },
      "execution_count": 13,
      "outputs": [
        {
          "output_type": "stream",
          "name": "stdout",
          "text": [
            "the key is not present 'age'\n"
          ]
        }
      ]
    },
    {
      "cell_type": "code",
      "source": [
        "# QUESTION-12  Write a program that demonstrates using multiple except blocks to handle different types of exceptions?\n",
        "try:\n",
        "  10/0\n",
        "except TypeError as e:\n",
        "  print(\"type error\",e)\n",
        "except ZeroDivisionError as e:\n",
        "  print (\"division not possible\",e)"
      ],
      "metadata": {
        "colab": {
          "base_uri": "https://localhost:8080/"
        },
        "id": "KkGDHup-1fHE",
        "outputId": "ff63c643-1c47-418b-fc51-ad9cd526c1a8"
      },
      "execution_count": 14,
      "outputs": [
        {
          "output_type": "stream",
          "name": "stdout",
          "text": [
            "division not possible division by zero\n"
          ]
        }
      ]
    },
    {
      "cell_type": "code",
      "source": [
        "# QUESTION-13  How would you check if a file exists before attempting to read it in Python?\n",
        "import os\n",
        "file1=\"log.txt1\"\n",
        "if os.path.exists(file1):\n",
        "  with open(\"file1\",\"r\") as f:\n",
        "    print(f.read())\n",
        "else:\n",
        "  print(f\"the file {file1} does not exist\")\n"
      ],
      "metadata": {
        "colab": {
          "base_uri": "https://localhost:8080/"
        },
        "id": "o6ME52nH1fEK",
        "outputId": "72513b65-e51a-444f-da01-6550171a1d4b"
      },
      "execution_count": 17,
      "outputs": [
        {
          "output_type": "stream",
          "name": "stdout",
          "text": [
            "the file log.txt1 does not exist\n"
          ]
        }
      ]
    },
    {
      "cell_type": "code",
      "source": [
        "# QUESTION-14 Write a program that uses the logging module to log both informational and error messages?\n",
        "import logging\n",
        "logging.basicConfig(filename=\"text.txt\",level=logging.INFO,format='%(asctime)s%(level name)s%(message)s%')\n",
        "logging.info(\"this is my info log\")\n",
        "try:\n",
        "  10/0\n",
        "except ZeroDivisionError as e:\n",
        "  logging.error(f\"an error occured {e}\")"
      ],
      "metadata": {
        "colab": {
          "base_uri": "https://localhost:8080/"
        },
        "id": "RldaqySR1fBH",
        "outputId": "34e7a293-f4d3-46a7-c45e-ad6afd66e57c"
      },
      "execution_count": 16,
      "outputs": [
        {
          "output_type": "stream",
          "name": "stderr",
          "text": [
            "ERROR:root:an error occured division by zero\n"
          ]
        }
      ]
    },
    {
      "cell_type": "code",
      "source": [
        "# QUESTION-15  Write a Python program that prints the content of a file and handles the case when the file is empty?\n",
        "filename=\"example.txt\"\n",
        "try:\n",
        "  with open(filename,\"r\") as f:\n",
        "    content=f.read()\n",
        "    if content:\n",
        "      print(content)\n",
        "    else:\n",
        "      print(f\"the file {filename} is empty\")\n",
        "except FileNotFoundError as e:\n",
        "    print(\"the file does not exist\")\n"
      ],
      "metadata": {
        "colab": {
          "base_uri": "https://localhost:8080/"
        },
        "id": "wdkq7vj01e-J",
        "outputId": "7ddd3480-6e8b-4f38-a138-6a1a8a65279d"
      },
      "execution_count": 18,
      "outputs": [
        {
          "output_type": "stream",
          "name": "stdout",
          "text": [
            "the file does not exist\n"
          ]
        }
      ]
    },
    {
      "cell_type": "code",
      "source": [
        "# QUESTION-16  Demonstrate how to use memory profiling to check the memory usage of a small program?\n",
        "import tracemalloc\n",
        "\n",
        "def memory_intensive_task():\n",
        "    a = [i for i in range(1000000)]\n",
        "    return sum(a)\n",
        "\n",
        "# Start tracking memory\n",
        "tracemalloc.start()\n",
        "\n",
        "# Run the function\n",
        "result = memory_intensive_task()\n",
        "\n",
        "# Get memory usage\n",
        "current, peak = tracemalloc.get_traced_memory()\n",
        "print(f\"Current memory usage: {current / 1024 / 1024:.2f} MB\")\n",
        "print(f\"Peak memory usage: {peak / 1024 / 1024:.2f} MB\")\n",
        "# Stop tracking\n",
        "tracemalloc.stop()\n"
      ],
      "metadata": {
        "colab": {
          "base_uri": "https://localhost:8080/"
        },
        "id": "z84lUTv71e7f",
        "outputId": "45d8a263-6715-4f91-c823-a4c232acbf9b"
      },
      "execution_count": 19,
      "outputs": [
        {
          "output_type": "stream",
          "name": "stdout",
          "text": [
            "Current memory usage: 0.00 MB\n",
            "Peak memory usage: 38.57 MB\n"
          ]
        }
      ]
    },
    {
      "cell_type": "code",
      "source": [
        "# QUESTION-17  Write a Python program to create and write a list of numbers to a file, one number per line?\n",
        "# List of numbers\n",
        "numbers = [10, 20, 30, 40, 50]\n",
        "\n",
        "\n",
        "with open('numbers.txt', 'w') as file:\n",
        "    for number in numbers:\n",
        "        file.write(str(number) + '\\n')\n",
        "\n",
        "print(\"Numbers written to file successfully.\")\n"
      ],
      "metadata": {
        "colab": {
          "base_uri": "https://localhost:8080/"
        },
        "id": "2cr_8mcQ1e4w",
        "outputId": "539584fd-1025-4e7e-d1f2-d181d9f408d0"
      },
      "execution_count": 21,
      "outputs": [
        {
          "output_type": "stream",
          "name": "stdout",
          "text": [
            "Numbers written to file successfully.\n"
          ]
        }
      ]
    },
    {
      "cell_type": "code",
      "source": [
        "# QUESTION-18  How would you implement a basic logging setup that logs to a file with rotation after 1MB?\n",
        "import logging\n",
        "from logging.handlers import RotatingFileHandler\n",
        "\n",
        "logger = logging.getLogger(\"my_logger\")\n",
        "logger.setLevel(logging.INFO)\n",
        "\n",
        "handler = RotatingFileHandler(\"my_log.log\", maxBytes=1_000_000, backupCount=3)\n",
        "formatter = logging.Formatter('%(asctime)s - %(levelname)s - %(message)s')\n",
        "handler.setFormatter(formatter)\n",
        "\n",
        "logger.addHandler(handler)\n",
        "\n",
        "logger.info(\"Logging with rotation!\")"
      ],
      "metadata": {
        "colab": {
          "base_uri": "https://localhost:8080/"
        },
        "id": "ksqKtrUJ1ezz",
        "outputId": "f3b483f5-47ab-48a7-8f73-80cf4284bd89"
      },
      "execution_count": 20,
      "outputs": [
        {
          "output_type": "stream",
          "name": "stderr",
          "text": [
            "INFO:my_logger:Logging with rotation!\n"
          ]
        }
      ]
    },
    {
      "cell_type": "code",
      "source": [
        "# QUESTION-19  Write a program that handles both IndexError and KeyError using a try-except block?\n",
        "try:\n",
        "  l=[1,2,3,4]\n",
        "  l[10]\n",
        "except (IndexError,KeyError) as e:\n",
        "  print(\"there is an error\",e)"
      ],
      "metadata": {
        "colab": {
          "base_uri": "https://localhost:8080/"
        },
        "id": "ICZ1dICX1ewp",
        "outputId": "d84454b1-9339-4fd7-d9a6-7b6260addfd6"
      },
      "execution_count": 22,
      "outputs": [
        {
          "output_type": "stream",
          "name": "stdout",
          "text": [
            "there is an error list index out of range\n"
          ]
        }
      ]
    },
    {
      "cell_type": "code",
      "source": [
        "# QUESTION-20  How would you open a file and read its contents using a context manager in Python?\n",
        "with open(\"example.txt\",\"w\") as f:\n",
        "  f.write(\"hello world \\n\")\n",
        "  f.write(\"this is a text file \\n\")\n",
        "with open(\"example.txt\",\"r\") as f:\n",
        "  context=f.read()\n",
        "  print(context)"
      ],
      "metadata": {
        "colab": {
          "base_uri": "https://localhost:8080/"
        },
        "id": "GDl6aK4n1erP",
        "outputId": "a14adee3-63be-4413-ad39-ed22d7e66adb"
      },
      "execution_count": 23,
      "outputs": [
        {
          "output_type": "stream",
          "name": "stdout",
          "text": [
            "hello world \n",
            "this is a text file \n",
            "\n"
          ]
        }
      ]
    },
    {
      "cell_type": "code",
      "source": [
        "# QUESTION-21  Write a Python program that reads a file and prints the number of occurrences of a specific word?\n",
        "def count_word(filename,target_word):\n",
        "  try:\n",
        "    with open(filename,\"r\") as f:\n",
        "      content=f.read()\n",
        "      word_count=content.lower().count(target_word.lower())\n",
        "      return word_count\n",
        "  except FileNotFoundError:\n",
        "    print(f\"file {filename} not found\")"
      ],
      "metadata": {
        "id": "PTFMtow41eoC"
      },
      "execution_count": 26,
      "outputs": []
    },
    {
      "cell_type": "code",
      "source": [
        "# QUESTION-22  How can you check if a file is empty before attempting to read its contents?\n",
        "f1=\"log1.txt\"\n",
        "import os\n",
        "try:\n",
        "  with open(f1,\"r\") as f:\n",
        "    f1.read()\n",
        "    if os.path.getsize(f1)==0:\n",
        "      print(\"file is empty\")\n",
        "    else:\n",
        "      print(\"file is not empty\")\n",
        "except FileNotFoundError:\n",
        "  print(\"file is empty\")\n"
      ],
      "metadata": {
        "colab": {
          "base_uri": "https://localhost:8080/"
        },
        "id": "ooeMGVrI3OHP",
        "outputId": "c37ea4e8-6a9b-4dc9-b07f-466fac833c86"
      },
      "execution_count": 25,
      "outputs": [
        {
          "output_type": "stream",
          "name": "stdout",
          "text": [
            "file is empty\n"
          ]
        }
      ]
    },
    {
      "cell_type": "code",
      "source": [
        "# QUESTION-23  Write a Python program that writes to a log file when an error occurs during file handling.\n",
        "import logging\n",
        "\n",
        "logging.basicConfig(filename='file_errors.log', level=logging.ERROR)\n",
        "\n",
        "try:\n",
        "    with open(\"nonexistent.txt\", \"r\") as f:\n",
        "        print(f.read())\n",
        "except Exception as e:\n",
        "    logging.error(f\"Error while handling file: {e}\")\n",
        "    print(\"An error occurred. Check log.\")"
      ],
      "metadata": {
        "colab": {
          "base_uri": "https://localhost:8080/"
        },
        "id": "-Ew4jM0j3OBV",
        "outputId": "1f46cc3a-fac6-4ed0-f334-5cc4e762925c"
      },
      "execution_count": 24,
      "outputs": [
        {
          "output_type": "stream",
          "name": "stderr",
          "text": [
            "ERROR:root:Error while handling file: [Errno 2] No such file or directory: 'nonexistent.txt'\n"
          ]
        },
        {
          "output_type": "stream",
          "name": "stdout",
          "text": [
            "An error occurred. Check log.\n"
          ]
        }
      ]
    }
  ]
}